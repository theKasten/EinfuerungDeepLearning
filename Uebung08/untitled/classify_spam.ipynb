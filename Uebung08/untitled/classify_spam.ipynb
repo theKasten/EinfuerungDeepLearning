{
 "cells": [
  {
   "cell_type": "code",
   "execution_count": null,
   "metadata": {
    "collapsed": true,
    "pycharm": {
     "name": "#%%\n",
     "is_executing": true
    }
   },
   "outputs": [],
   "source": [
    "from classify_spam import SpammClassifyer, SpamClassifierDataset\n",
    "from torch.utils.data import DataLoader\n",
    "import datasets\n",
    "\n",
    "n_vocab = 2000\n",
    "dataset = SpamClassifierDataset(datasets.load_dataset('sms_spam'), vocab_size=n_vocab)\n",
    "dataloader = DataLoader(dataset=dataset,\n",
    "                        batch_size=2**8,\n",
    "                        shuffle=True,\n",
    "                        num_workers=0)\n",
    "\n",
    "print(\"Dataloader:\\n\")\n",
    "print(dataloader)\n",
    "\n",
    "EMBED_SIZE = 200\n",
    "LR = 3e-4\n",
    "EPOCHS = 10\n",
    "\n",
    "\n",
    "model = SpammClassifyer(n_vocab, EMBED_SIZE)\n",
    "model.train(dataloader, EPOCHS, LR)\n",
    "model.plot_running_loss()"
   ]
  }
 ],
 "metadata": {
  "kernelspec": {
   "display_name": "Python 3",
   "language": "python",
   "name": "python3"
  },
  "language_info": {
   "codemirror_mode": {
    "name": "ipython",
    "version": 2
   },
   "file_extension": ".py",
   "mimetype": "text/x-python",
   "name": "python",
   "nbconvert_exporter": "python",
   "pygments_lexer": "ipython2",
   "version": "2.7.6"
  }
 },
 "nbformat": 4,
 "nbformat_minor": 0
}